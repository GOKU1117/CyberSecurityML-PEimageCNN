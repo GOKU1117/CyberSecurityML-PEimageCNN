{
  "cells": [
    {
      "cell_type": "markdown",
      "metadata": {
        "id": "njbVq0jShEBz"
      },
      "source": [
        "# Using CNN to classifiy malicious PE files into malware family\n",
        "\n",
        "Please take a careful look at the following tutorial.\n",
        "\n",
        "https://www.tensorflow.org/tutorials/keras/classification\n",
        "\n",
        "It is an example of using tensorflow/keras to build a simple neural network to classify images of clothing. The images are 28x28 NumPy arrays, with pixel values ranging from 0 to 255. The labels are an array of integers, ranging from 0 to 9.\n",
        "\n",
        "Please write your homework by modifying this tutorial. We will provide you the first 748 bytes of several PE files and their corresponding class labels (just like the example in the tutorial). Please desgin a more complicated neural network (e.g., using convolution, pooling, dense, dropout, dense, softmax, ...) to increase the classification accuracy."
      ]
    },
    {
      "cell_type": "code",
      "execution_count": null,
      "metadata": {
        "colab": {
          "base_uri": "https://localhost:8080/"
        },
        "id": "LYDFyLIgkYRZ",
        "outputId": "629a57f2-9c18-49ee-f048-f54d37f53bba"
      },
      "outputs": [
        {
          "name": "stdout",
          "output_type": "stream",
          "text": [
            "2.15.0\n"
          ]
        }
      ],
      "source": [
        "# TensorFlow and tf.keras\n",
        "import tensorflow as tf\n",
        "from tensorflow import keras\n",
        "\n",
        "# Helper libraries\n",
        "import numpy as np\n",
        "import pandas as pd\n",
        "import matplotlib.pyplot as plt\n",
        "\n",
        "print(tf.__version__)"
      ]
    },
    {
      "cell_type": "markdown",
      "metadata": {
        "id": "PDNaCNOSjDgH"
      },
      "source": [
        "### Get pefiles\n",
        "\n"
      ]
    },
    {
      "cell_type": "code",
      "execution_count": null,
      "metadata": {
        "id": "fVDAjk_Hg_Yu"
      },
      "outputs": [],
      "source": [
        "# get data from github\n",
        "\n",
        "import requests\n",
        "\n",
        "def download_request(url, out_name):\n",
        "    response = requests.get(url)\n",
        "    if response.status_code == 200:\n",
        "        with open(out_name, 'wb') as f:\n",
        "            f.write(response.content)\n",
        "    else:\n",
        "        print('Error: Failed to download the file')\n",
        "\n",
        "#\n",
        "url = 'https://github.com/hsiaom26/DS4CS-24/raw/main/data/pefiles.pickle'\n",
        "out_name = 'pefiles.pickle'\n",
        "download_request(url, out_name)"
      ]
    },
    {
      "cell_type": "code",
      "execution_count": null,
      "metadata": {
        "colab": {
          "base_uri": "https://localhost:8080/"
        },
        "id": "xZHA0VTPjKY1",
        "outputId": "9b28d228-6c9e-4a97-f09a-0baf8fe3bd79"
      },
      "outputs": [
        {
          "name": "stdout",
          "output_type": "stream",
          "text": [
            "total 288\n",
            "drwxr-xr-x 1 root root   4096 Apr 26 12:42 .\n",
            "drwxr-xr-x 1 root root   4096 Apr 26 12:22 ..\n",
            "drwxr-xr-x 4 root root   4096 Apr 24 13:20 .config\n",
            "-rw-r--r-- 1 root root 275871 Apr 26 12:42 pefiles.pickle\n",
            "drwxr-xr-x 1 root root   4096 Apr 24 13:21 sample_data\n"
          ]
        }
      ],
      "source": [
        "!ls -al"
      ]
    },
    {
      "cell_type": "markdown",
      "metadata": {
        "id": "-hUYU--mjpHD"
      },
      "source": [
        "### load training data"
      ]
    },
    {
      "cell_type": "code",
      "execution_count": null,
      "metadata": {
        "id": "ZxzLOj1vjw0H"
      },
      "outputs": [],
      "source": [
        "import pickle\n",
        "\n",
        "def my_load_data(p):\n",
        "  with open(p, 'rb') as fd:\n",
        "    tu = pickle.load(fd)\n",
        "  return (tu[0], tu[1])"
      ]
    },
    {
      "cell_type": "code",
      "execution_count": 63,
      "metadata": {
        "id": "iRRI5NE-jMmh"
      },
      "outputs": [],
      "source": [
        "(train_images, train_labels) = my_load_data(\"/content/pefiles.pickle\")"
      ]
    },
    {
      "cell_type": "code",
      "execution_count": null,
      "metadata": {
        "id": "bgqyrpLOkqZx"
      },
      "outputs": [],
      "source": [
        "# now go https://www.tensorflow.org/tutorials/keras/classification\n",
        "# and try to understand the tutorial\n",
        "# and write your code below.\n",
        "# My codes is very similar to the tutorial."
      ]
    },
    {
      "cell_type": "code",
      "execution_count": 64,
      "metadata": {
        "colab": {
          "base_uri": "https://localhost:8080/"
        },
        "id": "qxZ4y3Pdk7Ig",
        "outputId": "5bb88679-4d78-4457-df9a-faf9e3d86aa0"
      },
      "outputs": [
        {
          "name": "stdout",
          "output_type": "stream",
          "text": [
            "11\n"
          ]
        }
      ],
      "source": [
        "# our data includes 11 different malware families\n",
        "class_names = ['Urausy.C', 'Elkern.B', 'Fareit', 'Hotbar', 'Gepys.A', 'Bulta!rfn', 'Zbot',\n",
        "               'GameVance', 'Zegost.B', 'Bifrose.AE', 'Zbot!GO']\n",
        "len_classes = len(class_names)\n",
        "\n",
        "print(len_classes)"
      ]
    },
    {
      "cell_type": "markdown",
      "metadata": {
        "id": "V9Ncbl6IlUh1"
      },
      "source": [
        "### Explore the data"
      ]
    },
    {
      "cell_type": "code",
      "execution_count": 65,
      "metadata": {
        "colab": {
          "base_uri": "https://localhost:8080/"
        },
        "id": "ZnphVAxKlVJH",
        "outputId": "b316c5f3-f05b-46a6-b78b-06d99816a1d2"
      },
      "outputs": [
        {
          "data": {
            "text/plain": [
              "(348, 28, 28)"
            ]
          },
          "execution_count": 65,
          "metadata": {},
          "output_type": "execute_result"
        }
      ],
      "source": [
        "# We have 3xx malware pefiles, and each of them is represented as a 28x28 byte array.\n",
        "train_images.shape"
      ]
    },
    {
      "cell_type": "code",
      "execution_count": 66,
      "metadata": {
        "colab": {
          "base_uri": "https://localhost:8080/"
        },
        "id": "kFVRbQCFlZdd",
        "outputId": "620ff3da-366c-4bcf-986f-543efc1d7cd7"
      },
      "outputs": [
        {
          "data": {
            "text/plain": [
              "348"
            ]
          },
          "execution_count": 66,
          "metadata": {},
          "output_type": "execute_result"
        }
      ],
      "source": [
        "# The lenght of the label is 356 as well.\n",
        "len(train_labels)"
      ]
    },
    {
      "cell_type": "code",
      "execution_count": 67,
      "metadata": {
        "colab": {
          "base_uri": "https://localhost:8080/"
        },
        "id": "qiaQHLfKlmrP",
        "outputId": "d88ac33c-6e6b-4404-902d-307694650be1"
      },
      "outputs": [
        {
          "data": {
            "text/plain": [
              "array([4, 3, 4, 3, 1, 8, 8, 1, 3, 5, 1, 4, 8, 0, 3, 3, 8, 5, 4, 8, 1, 6,\n",
              "       4, 8, 4, 1, 2, 0, 8, 3, 1, 1, 2, 4, 1, 4, 4, 1, 8, 5, 6, 1, 4, 3,\n",
              "       3, 4, 3, 5, 3, 3, 3, 5, 5, 4, 4, 3, 5, 4, 4, 0, 8, 3, 3, 4, 2, 4,\n",
              "       3, 6, 3, 5, 8, 1, 5, 8, 3, 3, 1, 5, 2, 4, 6, 0, 8, 5, 3, 3, 3, 2,\n",
              "       5, 3, 4, 6, 6, 1, 5, 8, 3, 4, 4, 3, 3, 8, 1, 3, 3, 3, 3, 5, 4, 2,\n",
              "       6, 3, 4, 3, 4, 8, 1, 3, 1, 1, 0, 0, 4, 4, 5, 5, 8, 3, 2, 3, 3, 3,\n",
              "       4, 0, 5, 0, 1, 8, 4, 2, 1, 3, 5, 1, 1, 4, 2, 8, 4, 4, 3, 1, 4, 8,\n",
              "       4, 4, 3, 4, 0, 5, 4, 3, 3, 8, 6, 4, 4, 0, 8, 3, 4, 5, 3, 4, 5, 1,\n",
              "       2, 3, 1, 3, 3, 3, 4, 5, 3, 8, 5, 3, 6, 4, 4, 3, 4, 2, 4, 3, 8, 1,\n",
              "       4, 5, 4, 3, 6, 1, 3, 3, 4, 8, 4, 8, 5, 5, 6, 0, 4, 3, 4, 5, 4, 3,\n",
              "       3, 3, 4, 3, 4, 5, 3, 4, 8, 3, 5, 1, 5, 1, 3, 1, 2, 4, 0, 3, 1, 1,\n",
              "       0, 3, 8, 3, 3, 5, 5, 0, 5, 4, 3, 8, 4, 6, 3, 0, 5, 5, 1, 6, 1, 3,\n",
              "       5, 6, 8, 1, 1, 5, 4, 6, 4, 5, 5, 3, 1, 1, 4, 6, 5, 4, 4, 4, 1, 3,\n",
              "       6, 4, 8, 8, 4, 8, 3, 1, 1, 2, 1, 6, 3, 4, 3, 0, 8, 8, 8, 4, 1, 3,\n",
              "       3, 3, 8, 3, 1, 4, 3, 6, 6, 3, 4, 5, 8, 4, 1, 8, 4, 5, 8, 3, 5, 5,\n",
              "       1, 0, 8, 0, 6, 3, 8, 6, 0, 4, 2, 3, 1, 4, 1, 8, 6, 8])"
            ]
          },
          "execution_count": 67,
          "metadata": {},
          "output_type": "execute_result"
        }
      ],
      "source": [
        "# Each label is an integer (ranging from 0 to 10).\n",
        "# The 1st malware's label is 4.\n",
        "# See class_names. Its index starts from 0.\n",
        "train_labels"
      ]
    },
    {
      "cell_type": "code",
      "execution_count": 68,
      "metadata": {
        "colab": {
          "base_uri": "https://localhost:8080/",
          "height": 68
        },
        "id": "Wbcbt1D0lvjQ",
        "outputId": "f7f0a2cc-e0be-44f4-d1b0-37bea592ab7a"
      },
      "outputs": [
        {
          "data": {
            "text/html": [
              "<style>\n",
              "      .ndarray_repr .ndarray_raw_data {\n",
              "        display: none;\n",
              "      }\n",
              "      .ndarray_repr.show_array .ndarray_raw_data {\n",
              "        display: block;\n",
              "      }\n",
              "      .ndarray_repr.show_array .ndarray_image_preview {\n",
              "        display: none;\n",
              "      }\n",
              "      </style>\n",
              "      <div id=\"id-8b102edc-dcb2-448e-ae34-99b23c24f2a7\" class=\"ndarray_repr\"><pre>ndarray (28, 28) <button style=\"padding: 0 2px;\">show data</button></pre><img src=\"data:image/png;base64,iVBORw0KGgoAAAANSUhEUgAAABwAAAAcCAAAAABXZoBIAAABjElEQVR4nM2RTyikcRzGP795/4Sf33DbbRWjNP5ccJvjhANll12UvHpPFDdxVuSuKbfdVi7att2DXg7iQtOUy9S0J4ctr1KUZBCNGa9xeEeDqDl6Lk99n6dv3+f58nkkhgboQD4Pm/iIUgoyQLBuK8hGebJ+U/Qm6wcnJmdCU2Lay8jzyvXOe4Uw/nZo29+0W6fHcBqkntRzAe8qecCvT/8Blln9ftO8O+ud7c56ZxzallpsSqsj21LZeELlbEtl4xeqy7YU2Xha/bEtdRLeV6e2pU7Ce+rSttShPaL0pX939H1sd9zIAlXj904mskTZuObkEeiJD1nr+IdHBDCBUIGnrrehV2hU/m78+hjLRRNSVECbUbDGTNbiElZMSEm/n2qAABgIoMikpS+2DpgEiM5DdcH9yBQZYPRU0hYAUpLRmqcFdxusBUt6RQFjCUn3G5p4bTiUK9tPARAzi1fpL1xz4A71D7cDfisrJoQN0F+sje7gfukS+YufQMjFr6sWaDGebYzCTkmJ3g0eAF11cXFMqR4+AAAAAElFTkSuQmCC\" class=\"ndarray_image_preview\" /><pre class=\"ndarray_raw_data\">array([[ 77,  90, 144,   0,   3,   0,   0,   0,   4,   0,   0,   0, 255,\n",
              "        255,   0,   0, 184,   0,   0,   0,   0,   0,   0,   0,  64,   0,\n",
              "          0,   0],\n",
              "       [  0,   0,   0,   0,   0,   0,   0,   0,   0,   0,   0,   0,   0,\n",
              "          0,   0,   0,   0,   0,   0,   0,   0,   0,   0,   0,   0,   0,\n",
              "          0,   0],\n",
              "       [  0,   0,   0,   0, 248,   0,   0,   0,  14,  31, 186,  14,   0,\n",
              "        180,   9, 205,  33, 184,   1,  76, 205,  33,  84, 104, 105, 115,\n",
              "         32, 112],\n",
              "       [114, 111, 103, 114,  97, 109,  32,  99,  97, 110, 110, 111, 116,\n",
              "         32,  98, 101,  32, 114, 117, 110,  32, 105, 110,  32,  68,  79,\n",
              "         83,  32],\n",
              "       [109, 111, 100, 101,  46,  13,  13,  10,  36,   0,   0,   0,   0,\n",
              "          0,   0,   0, 165,  63,  53,  94, 225,  94,  91,  13, 225,  94,\n",
              "         91,  13],\n",
              "       [225,  94,  91,  13, 142,  40, 240,  13, 228,  94,  91,  13, 250,\n",
              "        195, 197,  13, 251,  94,  91,  13, 250, 195, 241,  13,  68,  94,\n",
              "         91,  13],\n",
              "       [250, 195, 240,  13, 171,  94,  91,  13, 232,  38, 216,  13, 235,\n",
              "         94,  91,  13, 232,  38, 200,  13, 242,  94,  91,  13, 225,  94,\n",
              "         90,  13],\n",
              "       [141,  95,  91,  13, 250, 195, 244,  13, 200,  94,  91,  13, 250,\n",
              "        195, 193,  13, 224,  94,  91,  13, 250, 195, 198,  13, 224,  94,\n",
              "         91,  13],\n",
              "       [ 82, 105,  99, 104, 225,  94,  91,  13,   0,   0,   0,   0,   0,\n",
              "          0,   0,   0,   0,   0,   0,   0,   0,   0,   0,   0,  80,  69,\n",
              "          0,   0],\n",
              "       [ 76,   1,   3,   0,  12, 169,  39,  81,   0,   0,   0,   0,   0,\n",
              "          0,   0,   0, 224,   0,   3,   1,  11,   1,  10,   0,   0,  48,\n",
              "          5,   0],\n",
              "       [  0,  32,   0,   0,   0, 144,   6,   0, 176, 195,  11,   0,   0,\n",
              "        160,   6,   0,   0, 208,  11,   0,   0,   0,  64,   0,   0,  16,\n",
              "          0,   0],\n",
              "       [  0,   2,   0,   0,   5,   0,   1,   0,   0,   0,   0,   0,   5,\n",
              "          0,   1,   0,   0,   0,   0,   0,   0, 240,  11,   0,   0,  16,\n",
              "          0,   0],\n",
              "       [ 47,  83,   6,   0,   2,   0,  64, 129,   0,   0,  16,   0,   0,\n",
              "         16,   0,   0,   0,   0,  16,   0,   0,  16,   0,   0,   0,   0,\n",
              "          0,   0],\n",
              "       [ 16,   0,   0,   0,   0,   0,   0,   0,   0,   0,   0,   0,  92,\n",
              "        235,  11,   0,  48,   2,   0,   0,   0, 208,  11,   0,  92,  27,\n",
              "          0,   0],\n",
              "       [  0,   0,   0,   0,   0,   0,   0,   0,   0,  72,   5,   0, 176,\n",
              "         14,   0,   0,   0,   0,   0,   0,   0,   0,   0,   0,   0,   0,\n",
              "          0,   0],\n",
              "       [  0,   0,   0,   0,   0,   0,   0,   0,   0,   0,   0,   0,   0,\n",
              "          0,   0,   0,   0,   0,   0,   0,   0,   0,   0,   0,   0,   0,\n",
              "          0,   0],\n",
              "       [100, 197,  11,   0,  72,   0,   0,   0,   0,   0,   0,   0,   0,\n",
              "          0,   0,   0,   0,   0,   0,   0,   0,   0,   0,   0,   0,   0,\n",
              "          0,   0],\n",
              "       [  0,   0,   0,   0,   0,   0,   0,   0,   0,   0,   0,   0,   0,\n",
              "          0,   0,   0,   0,   0,   0,   0,  85,  80,  88,  48,   0,   0,\n",
              "          0,   0],\n",
              "       [  0, 144,   6,   0,   0,  16,   0,   0,   0,   0,   0,   0,   0,\n",
              "          4,   0,   0,   0,   0,   0,   0,   0,   0,   0,   0,   0,   0,\n",
              "          0,   0],\n",
              "       [128,   0,   0, 224,  85,  80,  88,  49,   0,   0,   0,   0,   0,\n",
              "         48,   5,   0,   0, 160,   6,   0,   0,  38,   5,   0,   0,   4,\n",
              "          0,   0],\n",
              "       [  0,   0,   0,   0,   0,   0,   0,   0,   0,   0,   0,   0,  64,\n",
              "          0,   0, 224,  46, 114, 115, 114,  99,   0,   0,   0,   0,  32,\n",
              "          0,   0],\n",
              "       [  0, 208,  11,   0,   0,  30,   0,   0,   0,  42,   5,   0,   0,\n",
              "          0,   0,   0,   0,   0,   0,   0,   0,   0,   0,   0,  64,   0,\n",
              "          0, 192],\n",
              "       [  0,   0,   0,   0,   0,   0,   0,   0,   0,   0,   0,   0,   0,\n",
              "          0,   0,   0,   0,   0,   0,   0,   0,   0,   0,   0,   0,   0,\n",
              "          0,   0],\n",
              "       [  0,   0,   0,   0,   0,   0,   0,   0,   0,   0,   0,   0,   0,\n",
              "          0,   0,   0,   0,   0,   0,   0,   0,   0,   0,   0,   0,   0,\n",
              "          0,   0],\n",
              "       [  0,   0,   0,   0,   0,   0,   0,   0,   0,   0,   0,   0,   0,\n",
              "          0,   0,   0,   0,   0,   0,   0,   0,   0,   0,   0,   0,   0,\n",
              "          0,   0],\n",
              "       [  0,   0,   0,   0,   0,   0,   0,   0,   0,   0,   0,   0,   0,\n",
              "          0,   0,   0,   0,   0,   0,   0,   0,   0,   0,   0,   0,   0,\n",
              "          0,   0],\n",
              "       [  0,   0,   0,   0,   0,   0,   0,   0,   0,   0,   0,   0,   0,\n",
              "          0,   0,   0,   0,   0,   0,   0,   0,   0,   0,   0,   0,   0,\n",
              "          0,   0],\n",
              "       [  0,   0,   0,   0,   0,   0,   0,   0,   0,   0,   0,   0,   0,\n",
              "          0,   0,   0,   0,   0,   0,   0,   0,   0,   0,   0,   0,   0,\n",
              "          0,   0]], dtype=uint8)</pre></div><script>\n",
              "      (() => {\n",
              "      const titles = ['show data', 'hide data'];\n",
              "      let index = 0\n",
              "      document.querySelector('#id-8b102edc-dcb2-448e-ae34-99b23c24f2a7 button').onclick = (e) => {\n",
              "        document.querySelector('#id-8b102edc-dcb2-448e-ae34-99b23c24f2a7').classList.toggle('show_array');\n",
              "        index = (++index) % 2;\n",
              "        document.querySelector('#id-8b102edc-dcb2-448e-ae34-99b23c24f2a7 button').textContent = titles[index];\n",
              "        e.preventDefault();\n",
              "        e.stopPropagation();\n",
              "      }\n",
              "      })();\n",
              "    </script>"
            ],
            "text/plain": [
              "array([[ 77,  90, 144,   0,   3,   0,   0,   0,   4,   0,   0,   0, 255,\n",
              "        255,   0,   0, 184,   0,   0,   0,   0,   0,   0,   0,  64,   0,\n",
              "          0,   0],\n",
              "       [  0,   0,   0,   0,   0,   0,   0,   0,   0,   0,   0,   0,   0,\n",
              "          0,   0,   0,   0,   0,   0,   0,   0,   0,   0,   0,   0,   0,\n",
              "          0,   0],\n",
              "       [  0,   0,   0,   0, 248,   0,   0,   0,  14,  31, 186,  14,   0,\n",
              "        180,   9, 205,  33, 184,   1,  76, 205,  33,  84, 104, 105, 115,\n",
              "         32, 112],\n",
              "       [114, 111, 103, 114,  97, 109,  32,  99,  97, 110, 110, 111, 116,\n",
              "         32,  98, 101,  32, 114, 117, 110,  32, 105, 110,  32,  68,  79,\n",
              "         83,  32],\n",
              "       [109, 111, 100, 101,  46,  13,  13,  10,  36,   0,   0,   0,   0,\n",
              "          0,   0,   0, 165,  63,  53,  94, 225,  94,  91,  13, 225,  94,\n",
              "         91,  13],\n",
              "       [225,  94,  91,  13, 142,  40, 240,  13, 228,  94,  91,  13, 250,\n",
              "        195, 197,  13, 251,  94,  91,  13, 250, 195, 241,  13,  68,  94,\n",
              "         91,  13],\n",
              "       [250, 195, 240,  13, 171,  94,  91,  13, 232,  38, 216,  13, 235,\n",
              "         94,  91,  13, 232,  38, 200,  13, 242,  94,  91,  13, 225,  94,\n",
              "         90,  13],\n",
              "       [141,  95,  91,  13, 250, 195, 244,  13, 200,  94,  91,  13, 250,\n",
              "        195, 193,  13, 224,  94,  91,  13, 250, 195, 198,  13, 224,  94,\n",
              "         91,  13],\n",
              "       [ 82, 105,  99, 104, 225,  94,  91,  13,   0,   0,   0,   0,   0,\n",
              "          0,   0,   0,   0,   0,   0,   0,   0,   0,   0,   0,  80,  69,\n",
              "          0,   0],\n",
              "       [ 76,   1,   3,   0,  12, 169,  39,  81,   0,   0,   0,   0,   0,\n",
              "          0,   0,   0, 224,   0,   3,   1,  11,   1,  10,   0,   0,  48,\n",
              "          5,   0],\n",
              "       [  0,  32,   0,   0,   0, 144,   6,   0, 176, 195,  11,   0,   0,\n",
              "        160,   6,   0,   0, 208,  11,   0,   0,   0,  64,   0,   0,  16,\n",
              "          0,   0],\n",
              "       [  0,   2,   0,   0,   5,   0,   1,   0,   0,   0,   0,   0,   5,\n",
              "          0,   1,   0,   0,   0,   0,   0,   0, 240,  11,   0,   0,  16,\n",
              "          0,   0],\n",
              "       [ 47,  83,   6,   0,   2,   0,  64, 129,   0,   0,  16,   0,   0,\n",
              "         16,   0,   0,   0,   0,  16,   0,   0,  16,   0,   0,   0,   0,\n",
              "          0,   0],\n",
              "       [ 16,   0,   0,   0,   0,   0,   0,   0,   0,   0,   0,   0,  92,\n",
              "        235,  11,   0,  48,   2,   0,   0,   0, 208,  11,   0,  92,  27,\n",
              "          0,   0],\n",
              "       [  0,   0,   0,   0,   0,   0,   0,   0,   0,  72,   5,   0, 176,\n",
              "         14,   0,   0,   0,   0,   0,   0,   0,   0,   0,   0,   0,   0,\n",
              "          0,   0],\n",
              "       [  0,   0,   0,   0,   0,   0,   0,   0,   0,   0,   0,   0,   0,\n",
              "          0,   0,   0,   0,   0,   0,   0,   0,   0,   0,   0,   0,   0,\n",
              "          0,   0],\n",
              "       [100, 197,  11,   0,  72,   0,   0,   0,   0,   0,   0,   0,   0,\n",
              "          0,   0,   0,   0,   0,   0,   0,   0,   0,   0,   0,   0,   0,\n",
              "          0,   0],\n",
              "       [  0,   0,   0,   0,   0,   0,   0,   0,   0,   0,   0,   0,   0,\n",
              "          0,   0,   0,   0,   0,   0,   0,  85,  80,  88,  48,   0,   0,\n",
              "          0,   0],\n",
              "       [  0, 144,   6,   0,   0,  16,   0,   0,   0,   0,   0,   0,   0,\n",
              "          4,   0,   0,   0,   0,   0,   0,   0,   0,   0,   0,   0,   0,\n",
              "          0,   0],\n",
              "       [128,   0,   0, 224,  85,  80,  88,  49,   0,   0,   0,   0,   0,\n",
              "         48,   5,   0,   0, 160,   6,   0,   0,  38,   5,   0,   0,   4,\n",
              "          0,   0],\n",
              "       [  0,   0,   0,   0,   0,   0,   0,   0,   0,   0,   0,   0,  64,\n",
              "          0,   0, 224,  46, 114, 115, 114,  99,   0,   0,   0,   0,  32,\n",
              "          0,   0],\n",
              "       [  0, 208,  11,   0,   0,  30,   0,   0,   0,  42,   5,   0,   0,\n",
              "          0,   0,   0,   0,   0,   0,   0,   0,   0,   0,   0,  64,   0,\n",
              "          0, 192],\n",
              "       [  0,   0,   0,   0,   0,   0,   0,   0,   0,   0,   0,   0,   0,\n",
              "          0,   0,   0,   0,   0,   0,   0,   0,   0,   0,   0,   0,   0,\n",
              "          0,   0],\n",
              "       [  0,   0,   0,   0,   0,   0,   0,   0,   0,   0,   0,   0,   0,\n",
              "          0,   0,   0,   0,   0,   0,   0,   0,   0,   0,   0,   0,   0,\n",
              "          0,   0],\n",
              "       [  0,   0,   0,   0,   0,   0,   0,   0,   0,   0,   0,   0,   0,\n",
              "          0,   0,   0,   0,   0,   0,   0,   0,   0,   0,   0,   0,   0,\n",
              "          0,   0],\n",
              "       [  0,   0,   0,   0,   0,   0,   0,   0,   0,   0,   0,   0,   0,\n",
              "          0,   0,   0,   0,   0,   0,   0,   0,   0,   0,   0,   0,   0,\n",
              "          0,   0],\n",
              "       [  0,   0,   0,   0,   0,   0,   0,   0,   0,   0,   0,   0,   0,\n",
              "          0,   0,   0,   0,   0,   0,   0,   0,   0,   0,   0,   0,   0,\n",
              "          0,   0],\n",
              "       [  0,   0,   0,   0,   0,   0,   0,   0,   0,   0,   0,   0,   0,\n",
              "          0,   0,   0,   0,   0,   0,   0,   0,   0,   0,   0,   0,   0,\n",
              "          0,   0]], dtype=uint8)"
            ]
          },
          "execution_count": 68,
          "metadata": {},
          "output_type": "execute_result"
        }
      ],
      "source": [
        "# An example of first (indexed by 0) PE files.\n",
        "# It is a 28x28 integer matrix.\n",
        "train_images[0]"
      ]
    },
    {
      "cell_type": "markdown",
      "metadata": {
        "id": "EdwrMKuhnRPV"
      },
      "source": [
        "### Preprocess the data"
      ]
    },
    {
      "cell_type": "code",
      "execution_count": 69,
      "metadata": {
        "colab": {
          "base_uri": "https://localhost:8080/",
          "height": 430
        },
        "id": "mM8aua7tmOT7",
        "outputId": "316f2f80-a66c-4a5f-c771-9ac59a8089cd"
      },
      "outputs": [
        {
          "data": {
            "image/png": "[encoded data removed]",
            "text/plain": [
              "<Figure size 640x480 with 2 Axes>"
            ]
          },
          "metadata": {},
          "output_type": "display_data"
        }
      ],
      "source": [
        "plt.figure()\n",
        "plt.imshow(train_images[0])\n",
        "plt.colorbar()\n",
        "plt.grid(False)\n",
        "plt.show()\n",
        "\n",
        "\n",
        "# Note that we can view the first 28x28 bytes of a PE file as an image.\n",
        "# A byte with value 0 (or '0x00') has darkest color,\n",
        "# while a byte with value 255 (or '0xFF') has brightest color.\n",
        "# Below is the visualization of the first PE file."
      ]
    },
    {
      "cell_type": "code",
      "execution_count": 70,
      "metadata": {
        "colab": {
          "base_uri": "https://localhost:8080/",
          "height": 826
        },
        "id": "pldW7dpcnfkh",
        "outputId": "adb4165a-49bc-46a1-bfaf-4c5da08fab77"
      },
      "outputs": [
        {
          "data": {
            "image/png": "[encoded data removed]",
            "text/plain": [
              "<Figure size 1000x1000 with 36 Axes>"
            ]
          },
          "metadata": {},
          "output_type": "display_data"
        }
      ],
      "source": [
        "# Here are the examples of 36 PE files,\n",
        "# presented as 28x28 images.\n",
        "# However, I use 'plt.cm.binary' to show only grey-scale color.\n",
        "# You may try the following page to change to other colors.\n",
        "# https://matplotlib.org/stable/tutorials/colors/colormaps.html\n",
        "\n",
        "plt.figure(figsize=(10,10))\n",
        "for i in range(36):\n",
        "    plt.subplot(6,6,i+1)\n",
        "    plt.xticks([])\n",
        "    plt.yticks([])\n",
        "    plt.grid(False)\n",
        "    plt.imshow(train_images[i], cmap=plt.cm.OrRd)\n",
        "    plt.xlabel(class_names[train_labels[i]])\n",
        "plt.show()"
      ]
    },
    {
      "cell_type": "markdown",
      "metadata": {
        "id": "Snw_N4mtoSkv"
      },
      "source": [
        "The above images are samples of different PE files. Could you visually distinguish them? Their labels are shown under each of the image.\n",
        "\n",
        "Q1: Before building the model, if there is anything you can do to the data, do it right here.\n"
      ]
    },
    {
      "cell_type": "code",
      "execution_count": null,
      "metadata": {
        "id": "JISk0HUfoH6U"
      },
      "outputs": [],
      "source": [
        "# Any preprocessing?"
      ]
    },
    {
      "cell_type": "code",
      "execution_count": 71,
      "metadata": {
        "id": "9q25eVLEcFoY"
      },
      "outputs": [],
      "source": [
        "# Normalize pixel values to be between 0 and 1 (N02_Convolution.ipynb)\n",
        "train_images = train_images / 255.0"
      ]
    },
    {
      "cell_type": "markdown",
      "metadata": {
        "id": "m5pwDPLApAyy"
      },
      "source": [
        "### Build the model"
      ]
    },
    {
      "cell_type": "code",
      "execution_count": 72,
      "metadata": {
        "id": "NLB0CukEpDoz"
      },
      "outputs": [],
      "source": [
        "# This is the model from tensorflow's example.\n",
        "# Please try to modify it.\n",
        "\n",
        "model = keras.Sequential([\n",
        "    keras.layers.Flatten(input_shape=(28, 28)),\n",
        "    keras.layers.Dense(128, activation='relu'),\n",
        "    keras.layers.Dense(len_classes)\n",
        "])"
      ]
    },
    {
      "cell_type": "code",
      "execution_count": 73,
      "metadata": {
        "id": "OlamJI6vpbaC"
      },
      "outputs": [],
      "source": [
        "# This is the training sonfig from tensorflow's example.\n",
        "# Please try to modify it.\n",
        "\n",
        "model.compile(optimizer='SGD',\n",
        "              loss=tf.keras.losses.SparseCategoricalCrossentropy(from_logits=True),\n",
        "              metrics=['accuracy'])"
      ]
    },
    {
      "cell_type": "markdown",
      "metadata": {
        "id": "4fTbI6yupoM-"
      },
      "source": [
        "Q2: Why the example use 'SparseCategoricalCrossentropy' and what is 'from_logits'? Is \"SGD\" good enough? (what if not?)\n",
        "\n",
        "A2:\n",
        "\n",
        "1.使用SparseCategoricalCrossentropy作為損失函數，其輸入標籤的索引為一個整數。\n",
        "\n",
        "2.from_logits如果最後一層不是'softmax'或'sigmoid'，那麼輸出值不會被轉移到[0.0, 1.0]。在上述code中，最後一層稱為“logits”，因此必須將CNN的損失函數中的 from_logits 設為 True。\n",
        "\n",
        "3.SGD相對於其他方法，像是Adam、RMSprop等具有較少的參數。且其調整參數過程更加簡單，特別是對於小型資料集或較簡單的模型。"
      ]
    },
    {
      "cell_type": "code",
      "execution_count": 74,
      "metadata": {
        "colab": {
          "base_uri": "https://localhost:8080/"
        },
        "id": "Gm-dyVTGhO9Y",
        "outputId": "61eb7318-5231-437a-cc70-7f8e654707b1"
      },
      "outputs": [
        {
          "name": "stdout",
          "output_type": "stream",
          "text": [
            "Epoch 1/5\n",
            "10/10 [==============================] - 0s 21ms/step - loss: 2.3418 - accuracy: 0.1949 - val_loss: 2.2723 - val_accuracy: 0.3143\n",
            "Epoch 2/5\n",
            "10/10 [==============================] - 0s 6ms/step - loss: 2.1536 - accuracy: 0.3706 - val_loss: 2.1467 - val_accuracy: 0.3143\n",
            "Epoch 3/5\n",
            "10/10 [==============================] - 0s 6ms/step - loss: 2.0049 - accuracy: 0.4377 - val_loss: 2.0511 - val_accuracy: 0.3143\n",
            "Epoch 4/5\n",
            "10/10 [==============================] - 0s 6ms/step - loss: 1.8861 - accuracy: 0.4409 - val_loss: 1.9720 - val_accuracy: 0.3143\n",
            "Epoch 5/5\n",
            "10/10 [==============================] - 0s 6ms/step - loss: 1.7849 - accuracy: 0.4409 - val_loss: 1.9033 - val_accuracy: 0.3143\n"
          ]
        }
      ],
      "source": [
        "# A2: Use SGD\n",
        "model.compile(optimizer='SGD',\n",
        "              loss=tf.keras.losses.SparseCategoricalCrossentropy(from_logits=True),\n",
        "              metrics=['accuracy'])\n",
        "epochs = 5\n",
        "\n",
        "history = model.fit(\n",
        "    x = train_images,\n",
        "    y = train_labels,\n",
        "#    batch_size = 32, # If unspecified, batch_size will default to 32.\n",
        "    epochs = epochs, # default 1, an epoch is an iteration over the entire data\n",
        "    validation_split = 0.1,\n",
        "    # validation_data = (x_val, y_val), # if you have another validation dataset\n",
        "    )"
      ]
    },
    {
      "cell_type": "code",
      "execution_count": 48,
      "metadata": {
        "colab": {
          "base_uri": "https://localhost:8080/"
        },
        "id": "BkqJi19whe4v",
        "outputId": "4eb19788-b818-436b-d288-f42e29c99588"
      },
      "outputs": [
        {
          "name": "stdout",
          "output_type": "stream",
          "text": [
            "Epoch 1/5\n",
            "10/10 [==============================] - 1s 21ms/step - loss: 1.9324 - accuracy: 0.2524 - val_loss: 2.1095 - val_accuracy: 0.1429\n",
            "Epoch 2/5\n",
            "10/10 [==============================] - 0s 7ms/step - loss: 1.9288 - accuracy: 0.2524 - val_loss: 2.1150 - val_accuracy: 0.1429\n",
            "Epoch 3/5\n",
            "10/10 [==============================] - 0s 6ms/step - loss: 1.9259 - accuracy: 0.2524 - val_loss: 2.1168 - val_accuracy: 0.1429\n",
            "Epoch 4/5\n",
            "10/10 [==============================] - 0s 6ms/step - loss: 1.9246 - accuracy: 0.2524 - val_loss: 2.1204 - val_accuracy: 0.1429\n",
            "Epoch 5/5\n",
            "10/10 [==============================] - 0s 6ms/step - loss: 1.9233 - accuracy: 0.2524 - val_loss: 2.1210 - val_accuracy: 0.1429\n"
          ]
        }
      ],
      "source": [
        "# A2: Use adam\n",
        "model.compile(optimizer='adam',\n",
        "              loss=tf.keras.losses.SparseCategoricalCrossentropy(from_logits=True),\n",
        "              metrics=['accuracy'])\n",
        "epochs = 5\n",
        "\n",
        "history = model.fit(\n",
        "    x = train_images,\n",
        "    y = train_labels,\n",
        "#    batch_size = 32, # If unspecified, batch_size will default to 32.\n",
        "    epochs = epochs, # default 1, an epoch is an iteration over the entire data\n",
        "    validation_split = 0.1,\n",
        "    # validation_data = (x_val, y_val), # if you have another validation dataset\n",
        "    )"
      ]
    },
    {
      "cell_type": "markdown",
      "metadata": {
        "id": "dh_KofJ8p27y"
      },
      "source": [
        "### Train the model"
      ]
    },
    {
      "cell_type": "code",
      "execution_count": 75,
      "metadata": {
        "colab": {
          "base_uri": "https://localhost:8080/"
        },
        "id": "Kk5jNTIvp2Hc",
        "outputId": "648fbafe-3e89-41eb-9558-f061ae894220"
      },
      "outputs": [
        {
          "name": "stdout",
          "output_type": "stream",
          "text": [
            "Epoch 1/5\n",
            "11/11 [==============================] - 0s 2ms/step - loss: 1.7145 - accuracy: 0.4282\n",
            "Epoch 2/5\n",
            "11/11 [==============================] - 0s 2ms/step - loss: 1.6364 - accuracy: 0.4282\n",
            "Epoch 3/5\n",
            "11/11 [==============================] - 0s 2ms/step - loss: 1.5679 - accuracy: 0.4253\n",
            "Epoch 4/5\n",
            "11/11 [==============================] - 0s 2ms/step - loss: 1.5062 - accuracy: 0.4282\n",
            "Epoch 5/5\n",
            "11/11 [==============================] - 0s 2ms/step - loss: 1.4503 - accuracy: 0.4368\n"
          ]
        },
        {
          "data": {
            "text/plain": [
              "<keras.src.callbacks.History at 0x7de99029f0a0>"
            ]
          },
          "execution_count": 75,
          "metadata": {},
          "output_type": "execute_result"
        }
      ],
      "source": [
        "# This is the fitting function from tensorflow's example.\n",
        "# Please try to modify it.\n",
        "\n",
        "model.fit(train_images, train_labels, epochs=5)"
      ]
    },
    {
      "cell_type": "markdown",
      "metadata": {
        "id": "7pObjsXup7lN"
      },
      "source": [
        "Q3: What is 'epochs'? How does it affect the result?\n",
        "\n",
        "A3:epochs是訓練神經網路時的一個重要參數，它指的是將整個訓練資料集通過神經網路訓練的次數。每個epoch都代表模型訓練整個資料集一次並進行參數更新。\n",
        "\n",
        "\n",
        "Underfitting與Overfitting：如果epochs過少，模型可能無法從資料中學到足夠的模式，導致underfitting。相反，如果epochs過多，模型可能會過度擬合（overfitting），將訓練資料的噪聲視為模式，從而導致在測試資料上的性能下降。"
      ]
    },
    {
      "cell_type": "code",
      "execution_count": 76,
      "metadata": {
        "colab": {
          "base_uri": "https://localhost:8080/"
        },
        "id": "lGvrNoxoiTnB",
        "outputId": "ae884562-f106-48af-ec26-9f0894343ff7"
      },
      "outputs": [
        {
          "name": "stdout",
          "output_type": "stream",
          "text": [
            "Epoch 1/10\n",
            "11/11 [==============================] - 0s 2ms/step - loss: 1.3985 - accuracy: 0.4425\n",
            "Epoch 2/10\n",
            "11/11 [==============================] - 0s 2ms/step - loss: 1.3517 - accuracy: 0.4828\n",
            "Epoch 3/10\n",
            "11/11 [==============================] - 0s 2ms/step - loss: 1.3079 - accuracy: 0.5316\n",
            "Epoch 4/10\n",
            "11/11 [==============================] - 0s 2ms/step - loss: 1.2669 - accuracy: 0.5517\n",
            "Epoch 5/10\n",
            "11/11 [==============================] - 0s 2ms/step - loss: 1.2287 - accuracy: 0.5546\n",
            "Epoch 6/10\n",
            "11/11 [==============================] - 0s 2ms/step - loss: 1.1926 - accuracy: 0.5489\n",
            "Epoch 7/10\n",
            "11/11 [==============================] - 0s 2ms/step - loss: 1.1592 - accuracy: 0.5690\n",
            "Epoch 8/10\n",
            "11/11 [==============================] - 0s 2ms/step - loss: 1.1274 - accuracy: 0.5747\n",
            "Epoch 9/10\n",
            "11/11 [==============================] - 0s 2ms/step - loss: 1.0972 - accuracy: 0.6063\n",
            "Epoch 10/10\n",
            "11/11 [==============================] - 0s 2ms/step - loss: 1.0702 - accuracy: 0.6494\n"
          ]
        },
        {
          "data": {
            "text/plain": [
              "<keras.src.callbacks.History at 0x7de9902d7220>"
            ]
          },
          "execution_count": 76,
          "metadata": {},
          "output_type": "execute_result"
        }
      ],
      "source": [
        "#A3 change epochs\n",
        "#add epochs number\n",
        "\n",
        "model.fit(train_images, train_labels, epochs=10)"
      ]
    },
    {
      "cell_type": "markdown",
      "metadata": {
        "id": "PQmHXomhqGqd"
      },
      "source": [
        "Q4: What is 'split_validation' in model.fit()? Check it out in tensorflow's web page. Use it in your code.\n",
        "\n",
        "A4:\n",
        "validation_split=0.2將訓練數據集劃分為訓練集和驗證集，其中80%的資料用於訓練，20%的資料用於驗證。這樣訓練過程中就會同時監控訓練損失和驗證損失，以及訓練準確率和驗證準確率，有助於評估模型的性能並調整模型的參數。"
      ]
    },
    {
      "cell_type": "code",
      "execution_count": 77,
      "metadata": {
        "colab": {
          "base_uri": "https://localhost:8080/"
        },
        "id": "BLds9iunntX2",
        "outputId": "2edf79f7-48de-4814-bcc8-5e1222e59b6d"
      },
      "outputs": [
        {
          "name": "stdout",
          "output_type": "stream",
          "text": [
            "Epoch 1/10\n",
            "9/9 [==============================] - 0s 12ms/step - loss: 1.0283 - accuracy: 0.6978 - val_loss: 1.1056 - val_accuracy: 0.6857\n",
            "Epoch 2/10\n",
            "9/9 [==============================] - 0s 7ms/step - loss: 1.0079 - accuracy: 0.7158 - val_loss: 1.0954 - val_accuracy: 0.6857\n",
            "Epoch 3/10\n",
            "9/9 [==============================] - 0s 6ms/step - loss: 0.9867 - accuracy: 0.7266 - val_loss: 1.0813 - val_accuracy: 0.7143\n",
            "Epoch 4/10\n",
            "9/9 [==============================] - 0s 7ms/step - loss: 0.9687 - accuracy: 0.7446 - val_loss: 1.0684 - val_accuracy: 0.7143\n",
            "Epoch 5/10\n",
            "9/9 [==============================] - 0s 7ms/step - loss: 0.9496 - accuracy: 0.7446 - val_loss: 1.0513 - val_accuracy: 0.7286\n",
            "Epoch 6/10\n",
            "9/9 [==============================] - 0s 7ms/step - loss: 0.9317 - accuracy: 0.7590 - val_loss: 1.0368 - val_accuracy: 0.7286\n",
            "Epoch 7/10\n",
            "9/9 [==============================] - 0s 7ms/step - loss: 0.9153 - accuracy: 0.7590 - val_loss: 1.0220 - val_accuracy: 0.7286\n",
            "Epoch 8/10\n",
            "9/9 [==============================] - 0s 7ms/step - loss: 0.9008 - accuracy: 0.7842 - val_loss: 1.0132 - val_accuracy: 0.7286\n",
            "Epoch 9/10\n",
            "9/9 [==============================] - 0s 7ms/step - loss: 0.8839 - accuracy: 0.7878 - val_loss: 0.9996 - val_accuracy: 0.7286\n",
            "Epoch 10/10\n",
            "9/9 [==============================] - 0s 7ms/step - loss: 0.8702 - accuracy: 0.8058 - val_loss: 0.9892 - val_accuracy: 0.7286\n"
          ]
        },
        {
          "data": {
            "text/plain": [
              "<keras.src.callbacks.History at 0x7de9902f66b0>"
            ]
          },
          "execution_count": 77,
          "metadata": {},
          "output_type": "execute_result"
        }
      ],
      "source": [
        "# A4 Use split_validation\n",
        "model.fit(train_images, train_labels, epochs=10, validation_split=0.2)"
      ]
    },
    {
      "cell_type": "markdown",
      "metadata": {
        "id": "lleu3shDqWFr"
      },
      "source": [
        "Q5: Could you exaplin the output of model.fit()? And what is your accuracy?\n",
        "\n",
        "A5:\n",
        "\n",
        "這個model.fit()的輸出顯示了模型在訓練過程中的性能指標，包括損失（loss）和準確率（accuracy）。每個epoch都顯示了訓練集和驗證集的損失和準確率。\n",
        "\n",
        "例如，在第一個epoch中，訓練集的損失為1.0283，準確率為0.6978，而驗證集的損失為 1.1056，準確率為0.6857。依此類推，隨著epoch的增加，訓練集和驗證集的損失逐漸降低，而準確率則逐步提高。\n",
        "\n",
        "總的來說，這些輸出用於監控模型在訓練過程中的表現，並且可以幫助我們評估模型的訓練狀況以及是否存在overfitting 或underfitting的問題。\n",
        "\n",
        "至於模型的準確率，它會在最後一個epoch的結果中給出，即在訓練完成後顯示的資料中找到最後一個epoch的訓練集和驗證集的準確率。在這個例子中，模型的最終訓練準確率為0.8058，驗證準確率為0.7286。"
      ]
    },
    {
      "cell_type": "markdown",
      "metadata": {
        "id": "imcd1Dwzqre3"
      },
      "source": [
        "Q6: How do you know your model is not overfitted?\n",
        "\n",
        "A6:\n",
        "\n",
        "可以通過觀察訓練過程中的訓練集和驗證集的損失和準確率來判斷模型是否過度擬合。\n",
        "\n",
        "訓練集和驗證集的損失趨勢：如果模型過度擬合，訓練集的損失通常會持續下降，但驗證集的損失會在一定點後開始上升。\n",
        "\n",
        "可以觀察訓練過程中訓練集和驗證集的損失曲線，如果它們在整個訓練過程中都保持下降或趨於穩定，則可能表示模型沒有過度擬合。\n",
        "訓練集和驗證集的準確率： 同樣地，如果模型過度擬合，訓練集的準確率通常會持續提高，但驗證集的準確率會在一定點後開始下降。\n",
        "\n",
        "\n",
        "因此可以觀察訓練過程中訓練集和驗證集的準確率曲線，如果它們之間的差距不大且都在增加，則可能表示模型沒有過度擬合。\n",
        "\n",
        "early stop mechanism： 另一種常用的方法是使用Early Stopping，即在驗證集的性能停止提升時提前停止訓練。這可以通過觀察驗證集的損失或準確率，在其達到最佳值後不再改善時停止訓練，從而避免過度擬合。"
      ]
    },
    {
      "cell_type": "markdown",
      "metadata": {
        "id": "pLdPN7gBqw0c"
      },
      "source": [
        "Q7: Could you introduce 'early stop mechanism' in your code? Then, train the model again. \"Early stop\" means you can stop the epoch (without finishing all of them). You can prepare a validation data set and calculate your val_loss and val_accuracy at the end of each epoch. If you believe the val_loss will not improve for the next epoch, then you can stop the traning, to save time and to prevent overfitting. Does it works?\n",
        "\n",
        "A7:\n",
        "\n",
        "\n",
        "根據這個訓練結果，模型在訓練到第4個 epoch 時停止了。這意味著在這個情況下，early stop mechanism被觸發了，模型停止了訓練。從驗證集的損失（val_loss）和準確率（val_accuracy）來看，它們在這 4 個 epoch 內並沒有顯著改善的跡象，這可能是導致early stop mechanism觸發的原因之一。因此，根據這個結果，early stop mechanism在這個情況下是有效的，它幫助防止了模型的過度擬合，同時也節省了訓練時間。"
      ]
    },
    {
      "cell_type": "code",
      "execution_count": 82,
      "metadata": {
        "colab": {
          "base_uri": "https://localhost:8080/"
        },
        "id": "eAyV58PDwN52",
        "outputId": "3cd2c7fe-d89b-4109-bd29-917b81a4429b"
      },
      "outputs": [
        {
          "name": "stdout",
          "output_type": "stream",
          "text": [
            "Epoch 1/20\n",
            "10/10 [==============================] - 0s 10ms/step - loss: 0.4786 - accuracy: 0.8978 - val_loss: 0.6850 - val_accuracy: 0.8000\n",
            "Epoch 2/20\n",
            "10/10 [==============================] - 0s 6ms/step - loss: 0.4749 - accuracy: 0.8978 - val_loss: 0.6830 - val_accuracy: 0.8000\n",
            "Epoch 3/20\n",
            "10/10 [==============================] - 0s 6ms/step - loss: 0.4709 - accuracy: 0.8946 - val_loss: 0.6822 - val_accuracy: 0.8000\n",
            "Epoch 4/20\n",
            "10/10 [==============================] - 0s 6ms/step - loss: 0.4671 - accuracy: 0.8978 - val_loss: 0.6802 - val_accuracy: 0.8000\n",
            "Stop at epoch 4\n",
            "Epoch is set to 20\n"
          ]
        }
      ],
      "source": [
        "# A7 Introduce early stop mechanism\n",
        "\n",
        "epochs2 = 20\n",
        "callback = tf.keras.callbacks.EarlyStopping(\n",
        "    monitor = 'val_accuracy', # default 'loss', you may try 'acc', 'val_acc', ...\n",
        "    min_delta = 0.0005, # minimum change of 'monitor' to qualify as an improvementess.\n",
        "    patience = 3, # epochs with no improvement after which training will be stopped.\n",
        "    )\n",
        "\n",
        "history3 = model.fit(train_images, train_labels,\n",
        "                      epochs = epochs2,\n",
        "                      callbacks=[callback],\n",
        "                      validation_split = 0.1,\n",
        "                      )\n",
        "print(\"Stop at epoch\", len(history3.history['loss']))\n",
        "print(\"Epoch is set to\", epochs2)\n"
      ]
    },
    {
      "cell_type": "markdown",
      "metadata": {
        "id": "jJUoK10hrPkj"
      },
      "source": [
        "Q8: Any idea of improving the classification accuracy?\n",
        "\n",
        "A8:\n",
        "\n",
        "調整模型架構： 試著調整模型的層數、神經元數量、激活函數等參數，可能有助於提高準確率。可以嘗試添加更多的層或者使用更複雜的模型來捕捉更多的特徵。\n",
        "\n",
        "優化器和學習率： 嘗試不同的優化器（如Adam、SGD等）和學習率來優化模型的訓練過程，有時候調整學習率可以避免陷入局部最佳解。\n",
        "\n",
        "特徵工程： 深度學習模型對於輸入資料的品質和特徵表示非常敏感。優化輸入數據的質量和特徵表示，例如進行特徵選擇、標準化、正規化等處理，可能有助於提高模型性能。\n",
        "\n",
        "擴充資料集： 增加訓練資料的數量可以幫助模型更好地學習特徵。可以通過資料擴充技術（如圖像旋轉、翻轉、平移等）來生成更多的訓練樣本。\n",
        "\n",
        "集成學習： 嘗試使用集成學習方法，如投票、堆疊等，將多個模型的預測結果組合起來，以提高整體預測性能。\n",
        "\n",
        "參數調整： 通過交叉驗證等技術，優化模型的參數，例如批量大小、正則化參數等，以提高模型能力。\n",
        "\n",
        "檢查損失函數： 考慮使用不同的損失函數，例如分類問題常用的交叉熵損失函數，有時候更適合某些特定的問題。"
      ]
    },
    {
      "cell_type": "markdown",
      "metadata": {
        "id": "STLSWbzviMS5"
      },
      "source": [
        "Q9: Try to understand the reshape() function from the following link. https://www.tensorflow.org/api_docs/python/tf/reshape  We haved modified the original Fashion MNIST/MNIST dataset and applied similar structure to our malware PE file dataset. But for a PE file, its header and content are not designed according to a 2d shape 28x28, why convolution still work? According to the PE file structure, a row should be 64 bits (or 8 bytes, see https://en.wikipedia.org/wiki/Portable_Executable) and rows has no relation (but image does). So, theoratically we do not need to use a 2d convolution to describe the relation between rows. Why 2d conv still looks good?\n",
        "\n",
        "\n",
        "A9:\n",
        "\n",
        "雖然PE檔案結構並非2D影像，但2D格式仍然有效。考慮資料和模型設計，但使用2D形式仍然可以獲得良好的效果。"
      ]
    },
    {
      "cell_type": "markdown",
      "metadata": {
        "id": "9CkJCm4mkidh"
      },
      "source": [
        "Q10: use reshape() to transform the original 2d 28x28 inputs to a 1d 784 inputs, and try to use Conv1D() https://www.tensorflow.org/api_docs/python/tf/keras/layers/Conv1D to analyze our PE files. Does your accuracy of 1d model increase?\n",
        "\n",
        "A10: your code and result.\n",
        "\n",
        "根據提供的訓練結果，1D模型的準確率在訓練期間有所上升。最終訓練完成後，模型的準確率為大約96.55％，這比之前的準確率提高了。因此，可以確認1D模型的準確率有所增加。\n"
      ]
    },
    {
      "cell_type": "code",
      "execution_count": 86,
      "metadata": {
        "colab": {
          "base_uri": "https://localhost:8080/"
        },
        "id": "2RU_wFBW17YZ",
        "outputId": "ffd7d7c7-0b1d-4209-c965-5517b51a2d18"
      },
      "outputs": [
        {
          "data": {
            "text/plain": [
              "<tf.Tensor: shape=(348, 784), dtype=float64, numpy=\n",
              "array([[0.30196078, 0.35294118, 0.56470588, ..., 0.        , 0.        ,\n",
              "        0.        ],\n",
              "       [0.30196078, 0.35294118, 0.56470588, ..., 0.        , 0.        ,\n",
              "        0.        ],\n",
              "       [0.30196078, 0.35294118, 0.56470588, ..., 0.        , 0.        ,\n",
              "        0.        ],\n",
              "       ...,\n",
              "       [0.30196078, 0.35294118, 0.56470588, ..., 0.        , 0.        ,\n",
              "        0.        ],\n",
              "       [0.30196078, 0.35294118, 0.31372549, ..., 0.        , 0.        ,\n",
              "        0.        ],\n",
              "       [0.30196078, 0.35294118, 0.56470588, ..., 0.        , 0.        ,\n",
              "        0.        ]])>"
            ]
          },
          "execution_count": 86,
          "metadata": {},
          "output_type": "execute_result"
        }
      ],
      "source": [
        "train_images_reshaped = tf.reshape(train_images, [-1, 784])\n",
        "train_images_reshaped"
      ]
    },
    {
      "cell_type": "code",
      "execution_count": 87,
      "metadata": {
        "colab": {
          "base_uri": "https://localhost:8080/"
        },
        "id": "scAV3h9W3evl",
        "outputId": "2fbbeca5-a82a-4fc8-fca9-293898462d24"
      },
      "outputs": [
        {
          "name": "stdout",
          "output_type": "stream",
          "text": [
            "Model: \"sequential_3\"\n",
            "_________________________________________________________________\n",
            " Layer (type)                Output Shape              Param #   \n",
            "=================================================================\n",
            " conv1d (Conv1D)             (None, 782, 32)           128       \n",
            "                                                                 \n",
            " flatten_3 (Flatten)         (None, 25024)             0         \n",
            "                                                                 \n",
            " dense_6 (Dense)             (None, 128)               3203200   \n",
            "                                                                 \n",
            " dense_7 (Dense)             (None, 10)                1290      \n",
            "                                                                 \n",
            "=================================================================\n",
            "Total params: 3204618 (12.22 MB)\n",
            "Trainable params: 3204618 (12.22 MB)\n",
            "Non-trainable params: 0 (0.00 Byte)\n",
            "_________________________________________________________________\n"
          ]
        }
      ],
      "source": [
        "from tensorflow.keras.models import Sequential\n",
        "from tensorflow.keras.layers import Conv1D, Flatten, Dense\n",
        "model = Sequential()\n",
        "\n",
        "model.add(Conv1D(filters=32, kernel_size=3, activation='relu', input_shape=(784, 1)))\n",
        "\n",
        "\n",
        "model.add(Flatten())\n",
        "\n",
        "\n",
        "model.add(Dense(128, activation='relu'))\n",
        "\n",
        "\n",
        "model.add(Dense(10, activation='softmax'))\n",
        "\n",
        "\n",
        "model.compile(optimizer='adam', loss='sparse_categorical_crossentropy', metrics=['accuracy'])\n",
        "\n",
        "\n",
        "model.summary()"
      ]
    },
    {
      "cell_type": "code",
      "execution_count": 88,
      "metadata": {
        "colab": {
          "base_uri": "https://localhost:8080/"
        },
        "id": "nhoGiA_q3p3Y",
        "outputId": "1adfbcd5-4a46-4b6e-b874-474efae26cdf"
      },
      "outputs": [
        {
          "name": "stdout",
          "output_type": "stream",
          "text": [
            "Epoch 1/10\n",
            "9/9 [==============================] - 1s 38ms/step - loss: 1.4039 - accuracy: 0.5000 - val_loss: 0.7885 - val_accuracy: 0.8143\n",
            "Epoch 2/10\n",
            "9/9 [==============================] - 0s 18ms/step - loss: 0.5248 - accuracy: 0.8525 - val_loss: 0.7375 - val_accuracy: 0.7571\n",
            "Epoch 3/10\n",
            "9/9 [==============================] - 0s 17ms/step - loss: 0.3470 - accuracy: 0.9029 - val_loss: 0.5692 - val_accuracy: 0.8571\n",
            "Epoch 4/10\n",
            "9/9 [==============================] - 0s 17ms/step - loss: 0.2205 - accuracy: 0.9388 - val_loss: 0.6871 - val_accuracy: 0.7857\n",
            "Epoch 5/10\n",
            "9/9 [==============================] - 0s 18ms/step - loss: 0.1610 - accuracy: 0.9496 - val_loss: 0.5563 - val_accuracy: 0.8714\n",
            "Epoch 6/10\n",
            "9/9 [==============================] - 0s 18ms/step - loss: 0.1246 - accuracy: 0.9568 - val_loss: 0.7030 - val_accuracy: 0.8429\n",
            "Epoch 7/10\n",
            "9/9 [==============================] - 0s 18ms/step - loss: 0.1094 - accuracy: 0.9676 - val_loss: 0.5728 - val_accuracy: 0.8286\n",
            "Epoch 8/10\n",
            "9/9 [==============================] - 0s 17ms/step - loss: 0.0693 - accuracy: 0.9820 - val_loss: 0.6092 - val_accuracy: 0.8714\n",
            "Epoch 9/10\n",
            "9/9 [==============================] - 0s 17ms/step - loss: 0.0603 - accuracy: 0.9784 - val_loss: 0.6444 - val_accuracy: 0.8571\n",
            "Epoch 10/10\n",
            "9/9 [==============================] - 0s 17ms/step - loss: 0.0512 - accuracy: 0.9820 - val_loss: 0.6095 - val_accuracy: 0.8571\n",
            "11/11 [==============================] - 0s 3ms/step - loss: 0.1508 - accuracy: 0.9655\n",
            "Train Loss: 0.15078853070735931\n",
            "Train Accuracy: 0.9655172228813171\n"
          ]
        }
      ],
      "source": [
        "# 訓練模型\n",
        "history = model.fit(train_images_reshaped, train_labels, epochs=10, validation_split=0.2)\n",
        "\n",
        "# 獲取訓練結果\n",
        "train_loss, train_accuracy = model.evaluate(train_images_reshaped, train_labels)\n",
        "\n",
        "print('Train Loss:', train_loss)\n",
        "print('Train Accuracy:', train_accuracy)\n"
      ]
    }
  ],
  "metadata": {
    "accelerator": "GPU",
    "colab": {
      "gpuType": "T4",
      "provenance": []
    },
    "kernelspec": {
      "display_name": "Python 3",
      "name": "python3"
    }
  },
  "nbformat": 4,
  "nbformat_minor": 0
}
